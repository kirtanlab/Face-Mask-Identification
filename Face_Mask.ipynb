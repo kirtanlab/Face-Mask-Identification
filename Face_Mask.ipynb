{
  "cells": [
    {
      "cell_type": "code",
      "execution_count": null,
      "metadata": {
        "id": "ujSzDIjFX7Tb"
      },
      "outputs": [],
      "source": [
        "!pip install imutils\n",
        "!unzip /content/drive/MyDrive/Colab_Notebooks/without_mask.zip\n",
        "!unzip /content/drive/MyDrive/Colab_Notebooks/with_mask.zip"
      ]
    },
    {
      "cell_type": "code",
      "execution_count": null,
      "metadata": {
        "id": "zZgnb-2IXPgS"
      },
      "outputs": [],
      "source": [
        "import cv2\n",
        "import matplotlib.pyplot as plt\n",
        "import numpy as np\n",
        "import pandas as pd\n",
        "import os\n",
        "from imutils import paths\n",
        "\n",
        "from tensorflow.keras.applications import MobileNetV2\n",
        "from tensorflow.keras.layers import Conv2D, MaxPooling2D\n",
        "from tensorflow.keras.layers import Dropout\n",
        "from tensorflow.keras.layers import Flatten\n",
        "from tensorflow.keras.layers import Dense\n",
        "from tensorflow.keras.layers import Input\n",
        "from tensorflow.keras.models import Model\n",
        "from tensorflow.keras.optimizers import Adam\n",
        "\n",
        "from tensorflow.keras.applications.mobilenet_v2 import preprocess_input\n",
        "from tensorflow.keras.preprocessing.image import ImageDataGenerator\n",
        "from tensorflow.keras.preprocessing.image import img_to_array\n",
        "from tensorflow.keras.preprocessing.image import load_img\n",
        "from tensorflow.keras.utils import to_categorical\n",
        "from sklearn.preprocessing import LabelBinarizer\n",
        "from sklearn.model_selection import train_test_split\n",
        "from sklearn.metrics import classification_report"
      ]
    },
    {
      "cell_type": "code",
      "execution_count": null,
      "metadata": {
        "id": "mkvCTv9Go5Zs"
      },
      "outputs": [],
      "source": [
        "dataset_with_mask=\"./with_mask\"\n",
        "dataset_without_mask=\"./without_mask\"\n",
        "imagePaths_1=list(paths.list_images(dataset_with_mask))\n",
        "imagePaths_2 = list(paths.list_images(dataset_without_mask))\n",
        "imagePaths = imagePaths_1 + imagePaths_2\n",
        "imagePaths"
      ]
    },
    {
      "cell_type": "code",
      "execution_count": null,
      "metadata": {
        "id": "il7M0fQq_zu6",
        "colab": {
          "base_uri": "https://localhost:8080/"
        },
        "outputId": "e9a9033e-00dc-4e3c-d39b-87695c698923"
      },
      "outputs": [
        {
          "output_type": "execute_result",
          "data": {
            "text/plain": [
              "(96, 96, 3)"
            ]
          },
          "metadata": {},
          "execution_count": 5
        }
      ],
      "source": [
        "_image= load_img(imagePaths[0],target_size=(96,96))\n",
        "_image = img_to_array(_image)\n",
        "# _image = preprocess_input(_image)\n",
        "_image.shape #(96,96,3)\n"
      ]
    },
    {
      "cell_type": "code",
      "execution_count": null,
      "metadata": {
        "id": "jKlg2ZKg1Rbh",
        "colab": {
          "base_uri": "https://localhost:8080/"
        },
        "outputId": "24e793ed-2206-444e-a5fa-09182b483697"
      },
      "outputs": [
        {
          "output_type": "execute_result",
          "data": {
            "text/plain": [
              "4000"
            ]
          },
          "metadata": {},
          "execution_count": 6
        }
      ],
      "source": [
        "len(imagePaths)"
      ]
    },
    {
      "cell_type": "code",
      "execution_count": null,
      "metadata": {
        "id": "muiiS3yc19Fn"
      },
      "outputs": [],
      "source": [
        "# check = './without_mask/without_mask_1000.jpg'\n",
        "# if check in imagePaths:\n",
        "#   print('yes')\n",
        "data=[]\n",
        "labels=[]\n",
        "\n",
        "for i in imagePaths:\n",
        "    print(i.split(os.path.sep))\n",
        "    label=i.split(os.path.sep)[-2]\n",
        "    labels.append(label)\n",
        "    image = load_img(i,target_size=(96,96))\n",
        "    image = img_to_array(image)\n",
        "    image = preprocess_input(image)\n",
        "    data.append(image)\n",
        "\n",
        ""
      ]
    },
    {
      "cell_type": "code",
      "execution_count": null,
      "metadata": {
        "id": "1gRmzawl4TXb"
      },
      "outputs": [],
      "source": [
        "data = np.array(data,dtype='float32')\n",
        "labels = np.array(labels)\n"
      ]
    },
    {
      "cell_type": "code",
      "execution_count": null,
      "metadata": {
        "id": "RDsN7sLH1lo4",
        "colab": {
          "base_uri": "https://localhost:8080/"
        },
        "outputId": "f4732b82-2396-43aa-ace8-007204dcb2e8"
      },
      "outputs": [
        {
          "output_type": "execute_result",
          "data": {
            "text/plain": [
              "(4000,)"
            ]
          },
          "metadata": {},
          "execution_count": 9
        }
      ],
      "source": [
        "labels.shape"
      ]
    },
    {
      "cell_type": "code",
      "execution_count": null,
      "metadata": {
        "id": "4kYYwH4H4Vq_",
        "colab": {
          "base_uri": "https://localhost:8080/"
        },
        "outputId": "35105be7-edb8-432c-937d-ebb22d565ded"
      },
      "outputs": [
        {
          "output_type": "execute_result",
          "data": {
            "text/plain": [
              "array([[[ 1.        ,  1.        ,  1.        ],\n",
              "        [ 1.        ,  1.        ,  1.        ],\n",
              "        [ 1.        ,  1.        ,  1.        ],\n",
              "        ...,\n",
              "        [ 0.10588241,  0.09019613,  0.09803927],\n",
              "        [ 0.11372554,  0.09803927,  0.10588241],\n",
              "        [ 0.11372554,  0.09803927,  0.10588241]],\n",
              "\n",
              "       [[ 1.        ,  1.        ,  1.        ],\n",
              "        [ 1.        ,  1.        ,  1.        ],\n",
              "        [ 0.9843137 ,  0.9843137 ,  0.9843137 ],\n",
              "        ...,\n",
              "        [-0.30196077, -0.3098039 , -0.32549018],\n",
              "        [-0.2862745 , -0.29411763, -0.3098039 ],\n",
              "        [-0.26274508, -0.27058822, -0.2862745 ]],\n",
              "\n",
              "       [[ 1.        ,  1.        ,  1.        ],\n",
              "        [ 1.        ,  1.        ,  1.        ],\n",
              "        [ 0.99215686,  0.99215686,  0.99215686],\n",
              "        ...,\n",
              "        [-0.7176471 , -0.7254902 , -0.75686276],\n",
              "        [-0.69411767, -0.7019608 , -0.73333335],\n",
              "        [-0.6862745 , -0.69411767, -0.7254902 ]],\n",
              "\n",
              "       ...,\n",
              "\n",
              "       [[ 1.        ,  1.        ,  1.        ],\n",
              "        [ 1.        ,  1.        ,  1.        ],\n",
              "        [ 0.99215686,  0.99215686,  0.99215686],\n",
              "        ...,\n",
              "        [ 0.6313726 ,  0.62352943,  0.6627451 ],\n",
              "        [ 0.5764706 ,  0.5686275 ,  0.6313726 ],\n",
              "        [ 0.8352941 ,  0.81960785,  0.92156863]],\n",
              "\n",
              "       [[ 1.        ,  1.        ,  1.        ],\n",
              "        [ 1.        ,  1.        ,  1.        ],\n",
              "        [ 0.9764706 ,  0.9764706 ,  0.9764706 ],\n",
              "        ...,\n",
              "        [ 0.9607843 ,  0.9529412 ,  0.99215686],\n",
              "        [ 0.8509804 ,  0.84313726,  0.90588236],\n",
              "        [ 0.5294118 ,  0.5137255 ,  0.6156863 ]],\n",
              "\n",
              "       [[ 1.        ,  1.        ,  1.        ],\n",
              "        [ 1.        ,  1.        ,  1.        ],\n",
              "        [ 0.99215686,  0.99215686,  0.99215686],\n",
              "        ...,\n",
              "        [ 0.8509804 ,  0.84313726,  0.88235295],\n",
              "        [ 0.96862745,  0.9607843 ,  1.        ],\n",
              "        [ 0.92941177,  0.92941177,  0.94509804]]], dtype=float32)"
            ]
          },
          "metadata": {},
          "execution_count": 10
        }
      ],
      "source": [
        "labels\n",
        "image"
      ]
    },
    {
      "cell_type": "code",
      "execution_count": null,
      "metadata": {
        "id": "1jkGIl29AuTF"
      },
      "outputs": [],
      "source": [
        "b"
      ]
    },
    {
      "cell_type": "code",
      "execution_count": null,
      "metadata": {
        "id": "EZhHtcSL1to5",
        "colab": {
          "base_uri": "https://localhost:8080/"
        },
        "outputId": "6b7a18e9-9662-4066-d0ee-32f2b2d004d0"
      },
      "outputs": [
        {
          "output_type": "execute_result",
          "data": {
            "text/plain": [
              "(4000, 2)"
            ]
          },
          "metadata": {},
          "execution_count": 12
        }
      ],
      "source": [
        "labels.shape"
      ]
    },
    {
      "cell_type": "code",
      "execution_count": null,
      "metadata": {
        "id": "mLCOOiIUAvrq",
        "colab": {
          "base_uri": "https://localhost:8080/"
        },
        "outputId": "8607eb40-a692-4713-c0d0-a2568152b5b9"
      },
      "outputs": [
        {
          "output_type": "execute_result",
          "data": {
            "text/plain": [
              "array([[[ 0.38823533,  0.34901965,  0.3803922 ],\n",
              "        [-0.19215685, -0.20784312, -0.18431371],\n",
              "        [-0.5921569 , -0.5529412 , -0.58431375],\n",
              "        ...,\n",
              "        [-0.827451  , -0.36470586, -0.31764704],\n",
              "        [-0.7882353 , -0.31764704, -0.25490195],\n",
              "        [-0.77254903, -0.2862745 , -0.19999999]],\n",
              "\n",
              "       [[ 0.62352943,  0.52156866,  0.5764706 ],\n",
              "        [ 0.15294123,  0.06666672,  0.09803927],\n",
              "        [-0.4588235 , -0.49019605, -0.4980392 ],\n",
              "        ...,\n",
              "        [-0.78039217, -0.36470586, -0.3333333 ],\n",
              "        [-0.73333335, -0.30196077, -0.26274508],\n",
              "        [-0.75686276, -0.29411763, -0.24705881]],\n",
              "\n",
              "       [[ 0.62352943,  0.4431373 ,  0.5058824 ],\n",
              "        [ 0.5921569 ,  0.427451  ,  0.4666667 ],\n",
              "        [-0.00392157, -0.11372548, -0.11372548],\n",
              "        ...,\n",
              "        [-0.7647059 , -0.41960782, -0.42745095],\n",
              "        [-0.77254903, -0.41176468, -0.41176468],\n",
              "        [-0.81960785, -0.42745095, -0.41960782]],\n",
              "\n",
              "       ...,\n",
              "\n",
              "       [[ 0.5764706 ,  0.6392157 ,  0.7411765 ],\n",
              "        [ 0.5764706 ,  0.6313726 ,  0.75686276],\n",
              "        [ 0.56078434,  0.64705884,  0.7882353 ],\n",
              "        ...,\n",
              "        [-0.7254902 , -0.5686275 , -0.6392157 ],\n",
              "        [-0.7254902 , -0.5686275 , -0.6392157 ],\n",
              "        [-0.7254902 , -0.5686275 , -0.6392157 ]],\n",
              "\n",
              "       [[ 0.5764706 ,  0.62352943,  0.7490196 ],\n",
              "        [ 0.5921569 ,  0.64705884,  0.7882353 ],\n",
              "        [ 0.5372549 ,  0.6       ,  0.7490196 ],\n",
              "        ...,\n",
              "        [-0.73333335, -0.5686275 , -0.6392157 ],\n",
              "        [-0.73333335, -0.5686275 , -0.6392157 ],\n",
              "        [-0.7254902 , -0.5686275 , -0.6392157 ]],\n",
              "\n",
              "       [[ 0.5921569 ,  0.6392157 ,  0.7647059 ],\n",
              "        [ 0.5529412 ,  0.60784316,  0.7490196 ],\n",
              "        [ 0.5529412 ,  0.6156863 ,  0.7647059 ],\n",
              "        ...,\n",
              "        [-0.73333335, -0.5686275 , -0.6392157 ],\n",
              "        [-0.7411765 , -0.5764706 , -0.64705884],\n",
              "        [-0.7411765 , -0.5764706 , -0.64705884]]], dtype=float32)"
            ]
          },
          "metadata": {},
          "execution_count": 13
        }
      ],
      "source": [
        "data[0]"
      ]
    },
    {
      "cell_type": "code",
      "execution_count": null,
      "metadata": {
        "id": "OoZbfcwsCUUR"
      },
      "outputs": [],
      "source": [
        "## Splitting of Data\n",
        "\n",
        "train_X,test_X,train_Y,test_Y = train_test_split(data,labels,test_size=0.20,random_state=10,stratify=labels)"
      ]
    },
    {
      "cell_type": "code",
      "execution_count": null,
      "metadata": {
        "id": "a2yWaXsdCY7w",
        "colab": {
          "base_uri": "https://localhost:8080/"
        },
        "outputId": "90e3dc50-51b5-424b-a2f9-f3f8f2392119"
      },
      "outputs": [
        {
          "output_type": "execute_result",
          "data": {
            "text/plain": [
              "6400"
            ]
          },
          "metadata": {},
          "execution_count": 15
        }
      ],
      "source": [
        "train_Y.size"
      ]
    },
    {
      "cell_type": "code",
      "execution_count": null,
      "metadata": {
        "id": "NTd8PGaw0yPA",
        "colab": {
          "base_uri": "https://localhost:8080/"
        },
        "outputId": "e2db02ab-49f2-432b-de06-4cbb94884932"
      },
      "outputs": [
        {
          "output_type": "execute_result",
          "data": {
            "text/plain": [
              "1600"
            ]
          },
          "metadata": {},
          "execution_count": 16
        }
      ],
      "source": [
        "test_Y.size"
      ]
    },
    {
      "cell_type": "code",
      "execution_count": null,
      "metadata": {
        "id": "SRFRAjtL11r4",
        "colab": {
          "base_uri": "https://localhost:8080/"
        },
        "outputId": "8894fd16-cfb2-4dfc-a594-1a7475672031"
      },
      "outputs": [
        {
          "output_type": "execute_result",
          "data": {
            "text/plain": [
              "(800, 96, 96, 3)"
            ]
          },
          "metadata": {},
          "execution_count": 17
        }
      ],
      "source": [
        "test_X.shape"
      ]
    },
    {
      "cell_type": "code",
      "execution_count": null,
      "metadata": {
        "id": "CBCNGspZy_7S"
      },
      "outputs": [],
      "source": []
    },
    {
      "cell_type": "code",
      "execution_count": null,
      "metadata": {
        "id": "9LPRRQUm2LG5"
      },
      "outputs": [],
      "source": [
        "aug=ImageDataGenerator(\n",
        "                       rotation_range=20,\n",
        "                       zoom_range=0.15,width_shift_range=0.2,\n",
        "                       height_shift_range=0.2,shear_range=0.15,\n",
        "                       horizontal_flip=True,\n",
        "                       vertical_flip=True,\n",
        "                       fill_mode='nearest'\n",
        "                       )"
      ]
    },
    {
      "cell_type": "code",
      "execution_count": null,
      "metadata": {
        "id": "55tPcFi52XFM",
        "colab": {
          "base_uri": "https://localhost:8080/"
        },
        "outputId": "1478de5e-0aa8-4978-a100-b73e7392263c"
      },
      "outputs": [
        {
          "output_type": "execute_result",
          "data": {
            "text/plain": [
              "<keras.preprocessing.image.ImageDataGenerator at 0x7fbe47ba3e80>"
            ]
          },
          "metadata": {},
          "execution_count": 19
        }
      ],
      "source": [
        "aug"
      ]
    },
    {
      "cell_type": "code",
      "execution_count": null,
      "metadata": {
        "id": "DNOUmvWY9RLY"
      },
      "outputs": [],
      "source": [
        "input_shape= (96,96,3)"
      ]
    },
    {
      "cell_type": "code",
      "execution_count": null,
      "metadata": {
        "id": "jc7Gga5b9Iy8"
      },
      "outputs": [],
      "source": [
        "\n",
        "# Build Model\n",
        "input_image = Input(shape=input_shape)\n",
        "# 1st Conv layer\n",
        "model = Conv2D(16, (3, 3), activation='relu', padding='same', input_shape=input_shape)(input_image)\n",
        "model = MaxPooling2D((2, 2),padding='same')(model)\n",
        "# 2nd Conv layer\n",
        "model = Conv2D(32, (3, 3), activation='relu', padding='same')(model)\n",
        "model = MaxPooling2D((2, 2),padding='same')(model)\n",
        "# 3rd Conv layer\n",
        "model = Conv2D(64, (3, 3), activation='relu', padding='same')(model)\n",
        "model = MaxPooling2D((2, 2),padding='same')(model)\n",
        "# 4th Conv layer\n",
        "model = Conv2D(128, (3, 3), activation='relu', padding='same')(model)\n",
        "model = MaxPooling2D((2, 2),padding='same')(model)\n",
        "# 5th Conv layer\n",
        "model = Conv2D(256, (3, 3), activation='relu', padding='same')(model)\n",
        "model = MaxPooling2D((2, 2),padding='same')(model)\n",
        "# FC layers\n",
        "model = Flatten()(model)\n",
        "#model = Dense(1024, kernel_regularizer=l2(0.01), bias_regularizer=l2(0.01))(model)\n",
        "model = Dense(1024)(model)\n",
        "#model = Dropout(0.2)(model)\n",
        "\n",
        "#model = Dense(64, kernel_regularizer=l2(0.01), bias_regularizer=l2(0.01))(model)\n",
        "model = Dense(64)(model)\n",
        "#model = Dropout(0.2)(model)\n",
        "\n",
        "output= Dense(2, activation='softmax')(model)\n",
        "\n",
        "model = Model(inputs=[input_image], outputs=[output])\n",
        ""
      ]
    },
    {
      "cell_type": "code",
      "execution_count": null,
      "metadata": {
        "id": "nStJAMzkISR0",
        "colab": {
          "base_uri": "https://localhost:8080/"
        },
        "outputId": "98abfc30-49d6-4c91-a7e9-d65f2761cb2b"
      },
      "outputs": [
        {
          "output_type": "stream",
          "name": "stdout",
          "text": [
            "Model: \"model\"\n",
            "_________________________________________________________________\n",
            " Layer (type)                Output Shape              Param #   \n",
            "=================================================================\n",
            " input_1 (InputLayer)        [(None, 96, 96, 3)]       0         \n",
            "                                                                 \n",
            " conv2d (Conv2D)             (None, 96, 96, 16)        448       \n",
            "                                                                 \n",
            " max_pooling2d (MaxPooling2D  (None, 48, 48, 16)       0         \n",
            " )                                                               \n",
            "                                                                 \n",
            " conv2d_1 (Conv2D)           (None, 48, 48, 32)        4640      \n",
            "                                                                 \n",
            " max_pooling2d_1 (MaxPooling  (None, 24, 24, 32)       0         \n",
            " 2D)                                                             \n",
            "                                                                 \n",
            " conv2d_2 (Conv2D)           (None, 24, 24, 64)        18496     \n",
            "                                                                 \n",
            " max_pooling2d_2 (MaxPooling  (None, 12, 12, 64)       0         \n",
            " 2D)                                                             \n",
            "                                                                 \n",
            " conv2d_3 (Conv2D)           (None, 12, 12, 128)       73856     \n",
            "                                                                 \n",
            " max_pooling2d_3 (MaxPooling  (None, 6, 6, 128)        0         \n",
            " 2D)                                                             \n",
            "                                                                 \n",
            " conv2d_4 (Conv2D)           (None, 6, 6, 256)         295168    \n",
            "                                                                 \n",
            " max_pooling2d_4 (MaxPooling  (None, 3, 3, 256)        0         \n",
            " 2D)                                                             \n",
            "                                                                 \n",
            " flatten (Flatten)           (None, 2304)              0         \n",
            "                                                                 \n",
            " dense (Dense)               (None, 1024)              2360320   \n",
            "                                                                 \n",
            " dense_1 (Dense)             (None, 64)                65600     \n",
            "                                                                 \n",
            " dense_2 (Dense)             (None, 2)                 130       \n",
            "                                                                 \n",
            "=================================================================\n",
            "Total params: 2,818,658\n",
            "Trainable params: 2,818,658\n",
            "Non-trainable params: 0\n",
            "_________________________________________________________________\n"
          ]
        }
      ],
      "source": [
        "model.summary()"
      ]
    },
    {
      "cell_type": "code",
      "source": [
        "lr=0.0005\n",
        "Epochs=100\n",
        "BS=32\n",
        "\n",
        "opt=Adam(learning_rate=lr,decay=lr/Epochs)"
      ],
      "metadata": {
        "id": "kMVd886bgKKM"
      },
      "execution_count": null,
      "outputs": []
    },
    {
      "cell_type": "code",
      "source": [
        "model.compile(loss='binary_crossentropy',optimizer=opt,metrics=['accuracy'])"
      ],
      "metadata": {
        "id": "f0ShJMM9gQ3p"
      },
      "execution_count": null,
      "outputs": []
    },
    {
      "cell_type": "code",
      "source": [
        "aug.flow(train_X,train_Y,batch_size=BS)"
      ],
      "metadata": {
        "id": "Ylx71lpbv9Xs",
        "colab": {
          "base_uri": "https://localhost:8080/"
        },
        "outputId": "dc0565b7-2a33-48d4-d6cc-28a26bd0c124"
      },
      "execution_count": null,
      "outputs": [
        {
          "output_type": "execute_result",
          "data": {
            "text/plain": [
              "<keras.preprocessing.image.NumpyArrayIterator at 0x7fbe47b8c640>"
            ]
          },
          "metadata": {},
          "execution_count": 25
        }
      ]
    },
    {
      "cell_type": "code",
      "source": [
        "history=model.fit(\n",
        "aug.flow(train_X,train_Y,batch_size=BS),\n",
        "steps_per_epoch=len(train_X)//BS,\n",
        "validation_data=(test_X,test_Y),\n",
        "validation_steps=len(test_X)//BS,\n",
        "epochs=Epochs\n",
        ")\n"
      ],
      "metadata": {
        "colab": {
          "base_uri": "https://localhost:8080/"
        },
        "id": "VdGkaO4pgS7i",
        "outputId": "abaa5b51-d0c8-4137-cb00-4d4e054888a5"
      },
      "execution_count": null,
      "outputs": [
        {
          "output_type": "stream",
          "name": "stdout",
          "text": [
            "Epoch 1/100\n",
            "100/100 [==============================] - 17s 72ms/step - loss: 0.5217 - accuracy: 0.7431 - val_loss: 0.3306 - val_accuracy: 0.8612\n",
            "Epoch 2/100\n",
            "100/100 [==============================] - 7s 72ms/step - loss: 0.3575 - accuracy: 0.8506 - val_loss: 0.2793 - val_accuracy: 0.8975\n",
            "Epoch 3/100\n",
            "100/100 [==============================] - 7s 71ms/step - loss: 0.3150 - accuracy: 0.8737 - val_loss: 0.1882 - val_accuracy: 0.9300\n",
            "Epoch 4/100\n",
            "100/100 [==============================] - 7s 70ms/step - loss: 0.2714 - accuracy: 0.8909 - val_loss: 0.1653 - val_accuracy: 0.9388\n",
            "Epoch 5/100\n",
            "100/100 [==============================] - 8s 77ms/step - loss: 0.2563 - accuracy: 0.9013 - val_loss: 0.1667 - val_accuracy: 0.9337\n",
            "Epoch 6/100\n",
            "100/100 [==============================] - 7s 74ms/step - loss: 0.2313 - accuracy: 0.9109 - val_loss: 0.1601 - val_accuracy: 0.9350\n",
            "Epoch 7/100\n",
            "100/100 [==============================] - 7s 70ms/step - loss: 0.2119 - accuracy: 0.9156 - val_loss: 0.1368 - val_accuracy: 0.9463\n",
            "Epoch 8/100\n",
            "100/100 [==============================] - 7s 69ms/step - loss: 0.2070 - accuracy: 0.9212 - val_loss: 0.1600 - val_accuracy: 0.9388\n",
            "Epoch 9/100\n",
            "100/100 [==============================] - 7s 70ms/step - loss: 0.1947 - accuracy: 0.9312 - val_loss: 0.1246 - val_accuracy: 0.9525\n",
            "Epoch 10/100\n",
            "100/100 [==============================] - 7s 70ms/step - loss: 0.1711 - accuracy: 0.9372 - val_loss: 0.1124 - val_accuracy: 0.9588\n",
            "Epoch 11/100\n",
            "100/100 [==============================] - 7s 70ms/step - loss: 0.1598 - accuracy: 0.9425 - val_loss: 0.0994 - val_accuracy: 0.9675\n",
            "Epoch 12/100\n",
            "100/100 [==============================] - 7s 69ms/step - loss: 0.1534 - accuracy: 0.9506 - val_loss: 0.1008 - val_accuracy: 0.9538\n",
            "Epoch 13/100\n",
            "100/100 [==============================] - 7s 70ms/step - loss: 0.1628 - accuracy: 0.9441 - val_loss: 0.1388 - val_accuracy: 0.9525\n",
            "Epoch 14/100\n",
            "100/100 [==============================] - 7s 71ms/step - loss: 0.1317 - accuracy: 0.9509 - val_loss: 0.1194 - val_accuracy: 0.9550\n",
            "Epoch 15/100\n",
            "100/100 [==============================] - 7s 70ms/step - loss: 0.1314 - accuracy: 0.9475 - val_loss: 0.0975 - val_accuracy: 0.9588\n",
            "Epoch 16/100\n",
            "100/100 [==============================] - 7s 69ms/step - loss: 0.1283 - accuracy: 0.9534 - val_loss: 0.1087 - val_accuracy: 0.9550\n",
            "Epoch 17/100\n",
            "100/100 [==============================] - 7s 70ms/step - loss: 0.1282 - accuracy: 0.9550 - val_loss: 0.0703 - val_accuracy: 0.9700\n",
            "Epoch 18/100\n",
            "100/100 [==============================] - 7s 69ms/step - loss: 0.1339 - accuracy: 0.9528 - val_loss: 0.0922 - val_accuracy: 0.9588\n",
            "Epoch 19/100\n",
            "100/100 [==============================] - 7s 71ms/step - loss: 0.1097 - accuracy: 0.9619 - val_loss: 0.1310 - val_accuracy: 0.9425\n",
            "Epoch 20/100\n",
            "100/100 [==============================] - 7s 70ms/step - loss: 0.1152 - accuracy: 0.9578 - val_loss: 0.0599 - val_accuracy: 0.9787\n",
            "Epoch 21/100\n",
            "100/100 [==============================] - 7s 70ms/step - loss: 0.1194 - accuracy: 0.9544 - val_loss: 0.1016 - val_accuracy: 0.9600\n",
            "Epoch 22/100\n",
            "100/100 [==============================] - 10s 96ms/step - loss: 0.1151 - accuracy: 0.9600 - val_loss: 0.0743 - val_accuracy: 0.9725\n",
            "Epoch 23/100\n",
            "100/100 [==============================] - 7s 73ms/step - loss: 0.0950 - accuracy: 0.9659 - val_loss: 0.0736 - val_accuracy: 0.9675\n",
            "Epoch 24/100\n",
            "100/100 [==============================] - 7s 70ms/step - loss: 0.1166 - accuracy: 0.9588 - val_loss: 0.0696 - val_accuracy: 0.9725\n",
            "Epoch 25/100\n",
            "100/100 [==============================] - 7s 70ms/step - loss: 0.1025 - accuracy: 0.9681 - val_loss: 0.0985 - val_accuracy: 0.9638\n",
            "Epoch 26/100\n",
            "100/100 [==============================] - 7s 70ms/step - loss: 0.1066 - accuracy: 0.9625 - val_loss: 0.0647 - val_accuracy: 0.9812\n",
            "Epoch 27/100\n",
            "100/100 [==============================] - 7s 70ms/step - loss: 0.0873 - accuracy: 0.9669 - val_loss: 0.0665 - val_accuracy: 0.9750\n",
            "Epoch 28/100\n",
            "100/100 [==============================] - 7s 70ms/step - loss: 0.0883 - accuracy: 0.9716 - val_loss: 0.0694 - val_accuracy: 0.9787\n",
            "Epoch 29/100\n",
            "100/100 [==============================] - 7s 70ms/step - loss: 0.0917 - accuracy: 0.9691 - val_loss: 0.1286 - val_accuracy: 0.9525\n",
            "Epoch 30/100\n",
            "100/100 [==============================] - 7s 70ms/step - loss: 0.0998 - accuracy: 0.9672 - val_loss: 0.0730 - val_accuracy: 0.9750\n",
            "Epoch 31/100\n",
            "100/100 [==============================] - 7s 69ms/step - loss: 0.0793 - accuracy: 0.9725 - val_loss: 0.0699 - val_accuracy: 0.9750\n",
            "Epoch 32/100\n",
            "100/100 [==============================] - 7s 70ms/step - loss: 0.0800 - accuracy: 0.9731 - val_loss: 0.0713 - val_accuracy: 0.9762\n",
            "Epoch 33/100\n",
            "100/100 [==============================] - 7s 69ms/step - loss: 0.0766 - accuracy: 0.9719 - val_loss: 0.0518 - val_accuracy: 0.9837\n",
            "Epoch 34/100\n",
            "100/100 [==============================] - 7s 70ms/step - loss: 0.0792 - accuracy: 0.9734 - val_loss: 0.0721 - val_accuracy: 0.9712\n",
            "Epoch 35/100\n",
            "100/100 [==============================] - 7s 69ms/step - loss: 0.0809 - accuracy: 0.9722 - val_loss: 0.1000 - val_accuracy: 0.9625\n",
            "Epoch 36/100\n",
            "100/100 [==============================] - 7s 71ms/step - loss: 0.0763 - accuracy: 0.9753 - val_loss: 0.1040 - val_accuracy: 0.9638\n",
            "Epoch 37/100\n",
            "100/100 [==============================] - 7s 70ms/step - loss: 0.0665 - accuracy: 0.9753 - val_loss: 0.0726 - val_accuracy: 0.9775\n",
            "Epoch 38/100\n",
            "100/100 [==============================] - 7s 69ms/step - loss: 0.0716 - accuracy: 0.9781 - val_loss: 0.0693 - val_accuracy: 0.9762\n",
            "Epoch 39/100\n",
            "100/100 [==============================] - 7s 69ms/step - loss: 0.0719 - accuracy: 0.9753 - val_loss: 0.0923 - val_accuracy: 0.9688\n",
            "Epoch 40/100\n",
            "100/100 [==============================] - 7s 70ms/step - loss: 0.0585 - accuracy: 0.9794 - val_loss: 0.0775 - val_accuracy: 0.9787\n",
            "Epoch 41/100\n",
            "100/100 [==============================] - 7s 69ms/step - loss: 0.0641 - accuracy: 0.9781 - val_loss: 0.0975 - val_accuracy: 0.9775\n",
            "Epoch 42/100\n",
            "100/100 [==============================] - 7s 69ms/step - loss: 0.0703 - accuracy: 0.9775 - val_loss: 0.0653 - val_accuracy: 0.9775\n",
            "Epoch 43/100\n",
            "100/100 [==============================] - 7s 69ms/step - loss: 0.0655 - accuracy: 0.9784 - val_loss: 0.1204 - val_accuracy: 0.9550\n",
            "Epoch 44/100\n",
            "100/100 [==============================] - 7s 69ms/step - loss: 0.0727 - accuracy: 0.9756 - val_loss: 0.0694 - val_accuracy: 0.9750\n",
            "Epoch 45/100\n",
            "100/100 [==============================] - 7s 71ms/step - loss: 0.0577 - accuracy: 0.9803 - val_loss: 0.0761 - val_accuracy: 0.9762\n",
            "Epoch 46/100\n",
            "100/100 [==============================] - 7s 70ms/step - loss: 0.0666 - accuracy: 0.9756 - val_loss: 0.0794 - val_accuracy: 0.9725\n",
            "Epoch 47/100\n",
            "100/100 [==============================] - 7s 71ms/step - loss: 0.0595 - accuracy: 0.9800 - val_loss: 0.1061 - val_accuracy: 0.9638\n",
            "Epoch 48/100\n",
            "100/100 [==============================] - 7s 70ms/step - loss: 0.0646 - accuracy: 0.9800 - val_loss: 0.0881 - val_accuracy: 0.9663\n",
            "Epoch 49/100\n",
            "100/100 [==============================] - 7s 71ms/step - loss: 0.0538 - accuracy: 0.9806 - val_loss: 0.1135 - val_accuracy: 0.9650\n",
            "Epoch 50/100\n",
            "100/100 [==============================] - 7s 69ms/step - loss: 0.0435 - accuracy: 0.9834 - val_loss: 0.0856 - val_accuracy: 0.9762\n",
            "Epoch 51/100\n",
            "100/100 [==============================] - 7s 70ms/step - loss: 0.0658 - accuracy: 0.9784 - val_loss: 0.0612 - val_accuracy: 0.9825\n",
            "Epoch 52/100\n",
            "100/100 [==============================] - 7s 70ms/step - loss: 0.0511 - accuracy: 0.9841 - val_loss: 0.0699 - val_accuracy: 0.9725\n",
            "Epoch 53/100\n",
            "100/100 [==============================] - 7s 70ms/step - loss: 0.0684 - accuracy: 0.9747 - val_loss: 0.0638 - val_accuracy: 0.9800\n",
            "Epoch 54/100\n",
            "100/100 [==============================] - 7s 70ms/step - loss: 0.0512 - accuracy: 0.9812 - val_loss: 0.0608 - val_accuracy: 0.9825\n",
            "Epoch 55/100\n",
            "100/100 [==============================] - 7s 70ms/step - loss: 0.0456 - accuracy: 0.9847 - val_loss: 0.1003 - val_accuracy: 0.9700\n",
            "Epoch 56/100\n",
            "100/100 [==============================] - 10s 99ms/step - loss: 0.0431 - accuracy: 0.9872 - val_loss: 0.1104 - val_accuracy: 0.9787\n",
            "Epoch 57/100\n",
            "100/100 [==============================] - 7s 70ms/step - loss: 0.0561 - accuracy: 0.9797 - val_loss: 0.0729 - val_accuracy: 0.9787\n",
            "Epoch 58/100\n",
            "100/100 [==============================] - 7s 70ms/step - loss: 0.0656 - accuracy: 0.9734 - val_loss: 0.0559 - val_accuracy: 0.9787\n",
            "Epoch 59/100\n",
            "100/100 [==============================] - 7s 71ms/step - loss: 0.0531 - accuracy: 0.9828 - val_loss: 0.0604 - val_accuracy: 0.9775\n",
            "Epoch 60/100\n",
            "100/100 [==============================] - 7s 70ms/step - loss: 0.0484 - accuracy: 0.9856 - val_loss: 0.0850 - val_accuracy: 0.9700\n",
            "Epoch 61/100\n",
            "100/100 [==============================] - 7s 70ms/step - loss: 0.0443 - accuracy: 0.9831 - val_loss: 0.1077 - val_accuracy: 0.9700\n",
            "Epoch 62/100\n",
            "100/100 [==============================] - 7s 70ms/step - loss: 0.0445 - accuracy: 0.9850 - val_loss: 0.0809 - val_accuracy: 0.9775\n",
            "Epoch 63/100\n",
            "100/100 [==============================] - 7s 70ms/step - loss: 0.0394 - accuracy: 0.9875 - val_loss: 0.0690 - val_accuracy: 0.9787\n",
            "Epoch 64/100\n",
            "100/100 [==============================] - 7s 70ms/step - loss: 0.0479 - accuracy: 0.9850 - val_loss: 0.0610 - val_accuracy: 0.9825\n",
            "Epoch 65/100\n",
            "100/100 [==============================] - 7s 70ms/step - loss: 0.0516 - accuracy: 0.9831 - val_loss: 0.0696 - val_accuracy: 0.9762\n",
            "Epoch 66/100\n",
            "100/100 [==============================] - 7s 70ms/step - loss: 0.0293 - accuracy: 0.9900 - val_loss: 0.0866 - val_accuracy: 0.9750\n",
            "Epoch 67/100\n",
            "100/100 [==============================] - 7s 70ms/step - loss: 0.0545 - accuracy: 0.9819 - val_loss: 0.0677 - val_accuracy: 0.9762\n",
            "Epoch 68/100\n",
            "100/100 [==============================] - 7s 71ms/step - loss: 0.0600 - accuracy: 0.9800 - val_loss: 0.0718 - val_accuracy: 0.9762\n",
            "Epoch 69/100\n",
            "100/100 [==============================] - 7s 70ms/step - loss: 0.0463 - accuracy: 0.9822 - val_loss: 0.0681 - val_accuracy: 0.9825\n",
            "Epoch 70/100\n",
            "100/100 [==============================] - 7s 71ms/step - loss: 0.0403 - accuracy: 0.9850 - val_loss: 0.0865 - val_accuracy: 0.9750\n",
            "Epoch 71/100\n",
            "100/100 [==============================] - 7s 70ms/step - loss: 0.0388 - accuracy: 0.9850 - val_loss: 0.0667 - val_accuracy: 0.9825\n",
            "Epoch 72/100\n",
            "100/100 [==============================] - 7s 70ms/step - loss: 0.0453 - accuracy: 0.9822 - val_loss: 0.0570 - val_accuracy: 0.9762\n",
            "Epoch 73/100\n",
            "100/100 [==============================] - 7s 69ms/step - loss: 0.0441 - accuracy: 0.9837 - val_loss: 0.0489 - val_accuracy: 0.9837\n",
            "Epoch 74/100\n",
            "100/100 [==============================] - 7s 70ms/step - loss: 0.0427 - accuracy: 0.9853 - val_loss: 0.0609 - val_accuracy: 0.9800\n",
            "Epoch 75/100\n",
            "100/100 [==============================] - 7s 69ms/step - loss: 0.0445 - accuracy: 0.9831 - val_loss: 0.0601 - val_accuracy: 0.9787\n",
            "Epoch 76/100\n",
            "100/100 [==============================] - 7s 70ms/step - loss: 0.0487 - accuracy: 0.9825 - val_loss: 0.1647 - val_accuracy: 0.9513\n",
            "Epoch 77/100\n",
            "100/100 [==============================] - 7s 70ms/step - loss: 0.0398 - accuracy: 0.9869 - val_loss: 0.0345 - val_accuracy: 0.9875\n",
            "Epoch 78/100\n",
            "100/100 [==============================] - 7s 70ms/step - loss: 0.0385 - accuracy: 0.9856 - val_loss: 0.0560 - val_accuracy: 0.9825\n",
            "Epoch 79/100\n",
            "100/100 [==============================] - 7s 71ms/step - loss: 0.0412 - accuracy: 0.9875 - val_loss: 0.0417 - val_accuracy: 0.9875\n",
            "Epoch 80/100\n",
            "100/100 [==============================] - 7s 70ms/step - loss: 0.0382 - accuracy: 0.9878 - val_loss: 0.0736 - val_accuracy: 0.9825\n",
            "Epoch 81/100\n",
            "100/100 [==============================] - 7s 70ms/step - loss: 0.0359 - accuracy: 0.9884 - val_loss: 0.0405 - val_accuracy: 0.9887\n",
            "Epoch 82/100\n",
            "100/100 [==============================] - 7s 70ms/step - loss: 0.0355 - accuracy: 0.9884 - val_loss: 0.0604 - val_accuracy: 0.9812\n",
            "Epoch 83/100\n",
            "100/100 [==============================] - 7s 71ms/step - loss: 0.0338 - accuracy: 0.9866 - val_loss: 0.0501 - val_accuracy: 0.9862\n",
            "Epoch 84/100\n",
            "100/100 [==============================] - 7s 70ms/step - loss: 0.0455 - accuracy: 0.9847 - val_loss: 0.0622 - val_accuracy: 0.9887\n",
            "Epoch 85/100\n",
            "100/100 [==============================] - 7s 70ms/step - loss: 0.0378 - accuracy: 0.9872 - val_loss: 0.0636 - val_accuracy: 0.9837\n",
            "Epoch 86/100\n",
            "100/100 [==============================] - 7s 70ms/step - loss: 0.0308 - accuracy: 0.9881 - val_loss: 0.0755 - val_accuracy: 0.9812\n",
            "Epoch 87/100\n",
            "100/100 [==============================] - 7s 71ms/step - loss: 0.0337 - accuracy: 0.9891 - val_loss: 0.0796 - val_accuracy: 0.9850\n",
            "Epoch 88/100\n",
            "100/100 [==============================] - 7s 70ms/step - loss: 0.0452 - accuracy: 0.9856 - val_loss: 0.0584 - val_accuracy: 0.9837\n",
            "Epoch 89/100\n",
            "100/100 [==============================] - 9s 92ms/step - loss: 0.0334 - accuracy: 0.9891 - val_loss: 0.0535 - val_accuracy: 0.9850\n",
            "Epoch 90/100\n",
            "100/100 [==============================] - 7s 72ms/step - loss: 0.0386 - accuracy: 0.9869 - val_loss: 0.0630 - val_accuracy: 0.9825\n",
            "Epoch 91/100\n",
            "100/100 [==============================] - 7s 70ms/step - loss: 0.0432 - accuracy: 0.9847 - val_loss: 0.0574 - val_accuracy: 0.9862\n",
            "Epoch 92/100\n",
            "100/100 [==============================] - 7s 71ms/step - loss: 0.0309 - accuracy: 0.9887 - val_loss: 0.0546 - val_accuracy: 0.9825\n",
            "Epoch 93/100\n",
            "100/100 [==============================] - 7s 71ms/step - loss: 0.0495 - accuracy: 0.9847 - val_loss: 0.0744 - val_accuracy: 0.9787\n",
            "Epoch 94/100\n",
            "100/100 [==============================] - 7s 71ms/step - loss: 0.0345 - accuracy: 0.9887 - val_loss: 0.0525 - val_accuracy: 0.9912\n",
            "Epoch 95/100\n",
            "100/100 [==============================] - 7s 71ms/step - loss: 0.0284 - accuracy: 0.9881 - val_loss: 0.0764 - val_accuracy: 0.9787\n",
            "Epoch 96/100\n",
            "100/100 [==============================] - 7s 70ms/step - loss: 0.0326 - accuracy: 0.9897 - val_loss: 0.0896 - val_accuracy: 0.9712\n",
            "Epoch 97/100\n",
            "100/100 [==============================] - 7s 70ms/step - loss: 0.0267 - accuracy: 0.9900 - val_loss: 0.0735 - val_accuracy: 0.9850\n",
            "Epoch 98/100\n",
            "100/100 [==============================] - 7s 70ms/step - loss: 0.0318 - accuracy: 0.9919 - val_loss: 0.0927 - val_accuracy: 0.9762\n",
            "Epoch 99/100\n",
            "100/100 [==============================] - 7s 70ms/step - loss: 0.0343 - accuracy: 0.9881 - val_loss: 0.0725 - val_accuracy: 0.9762\n",
            "Epoch 100/100\n",
            "100/100 [==============================] - 7s 71ms/step - loss: 0.0289 - accuracy: 0.9906 - val_loss: 0.0963 - val_accuracy: 0.9850\n"
          ]
        }
      ]
    },
    {
      "cell_type": "code",
      "source": [
        "loss_train = history.history['loss']\n",
        "loss_val = history.history['val_loss']\n",
        "epochs = range(1,101)\n",
        "plt.plot(epochs, loss_train, 'g', label='Training loss')\n",
        "plt.plot(epochs, loss_val, 'b', label='validation loss')\n",
        "plt.title('Training and Validation loss')\n",
        "plt.xlabel('Epochs')\n",
        "plt.ylabel('Loss')\n",
        "plt.legend()\n",
        "plt.show()"
      ],
      "metadata": {
        "colab": {
          "base_uri": "https://localhost:8080/",
          "height": 295
        },
        "id": "ZTQrXBwqhGMt",
        "outputId": "a7b9065a-264e-4d34-c76a-ce10109d2a98"
      },
      "execution_count": null,
      "outputs": [
        {
          "output_type": "display_data",
          "data": {
            "text/plain": [
              "<Figure size 432x288 with 1 Axes>"
            ],
            "image/png": "[encoded data removed]"
          },
          "metadata": {
            "needs_background": "light"
          }
        }
      ]
    },
    {
      "cell_type": "code",
      "source": [
        "\n",
        "acc_train = history.history['accuracy']\n",
        "acc_val = history.history['val_accuracy']\n",
        "epochs = range(1,101)\n",
        "plt.plot(epochs, acc_train, 'g', label='Training accuracy')\n",
        "plt.plot(epochs, acc_val, 'b', label='validation accuracy')\n",
        "plt.title('Training and Validation accuracy')\n",
        "plt.xlabel('Epochs')\n",
        "plt.ylabel('Accuracy')\n",
        "plt.legend()\n",
        "plt.show()\n",
        ""
      ],
      "metadata": {
        "colab": {
          "base_uri": "https://localhost:8080/",
          "height": 295
        },
        "id": "VoDy40GykODe",
        "outputId": "5c767f78-8f25-415e-a0c1-3c18aa30ba12"
      },
      "execution_count": null,
      "outputs": [
        {
          "output_type": "display_data",
          "data": {
            "text/plain": [
              "<Figure size 432x288 with 1 Axes>"
            ],
            "image/png": "[encoded data removed]"
          },
          "metadata": {
            "needs_background": "light"
          }
        }
      ]
    },
    {
      "cell_type": "code",
      "source": [
        "pd.DataFrame(history.history).plot(figsize=(8,5))\n",
        "plt.show()\n",
        ""
      ],
      "metadata": {
        "colab": {
          "base_uri": "https://localhost:8080/",
          "height": 320
        },
        "id": "vYT2iaMEkTOK",
        "outputId": "282a285d-61c1-4bbf-c666-3d56dd505a96"
      },
      "execution_count": null,
      "outputs": [
        {
          "output_type": "display_data",
          "data": {
            "text/plain": [
              "<Figure size 576x360 with 1 Axes>"
            ],
            "image/png": "[encoded data removed]"
          },
          "metadata": {
            "needs_background": "light"
          }
        }
      ]
    },
    {
      "cell_type": "code",
      "source": [
        "model.save('custom_4000_32_100.h5')"
      ],
      "metadata": {
        "id": "_Can7dQCkXDF"
      },
      "execution_count": null,
      "outputs": []
    },
    {
      "cell_type": "code",
      "source": [
        "predict=model.predict(test_X,batch_size=BS)\n",
        "predict=np.argmax(predict,axis=1)\n",
        "print(classification_report(test_Y.argmax(axis=1),predict,target_names=lb.classes_))"
      ],
      "metadata": {
        "colab": {
          "base_uri": "https://localhost:8080/"
        },
        "id": "258C0HYRkbzy",
        "outputId": "c45b0c36-6165-4645-f3a6-4b7e4aaa707c"
      },
      "execution_count": null,
      "outputs": [
        {
          "output_type": "stream",
          "name": "stdout",
          "text": [
            "25/25 [==============================] - 0s 4ms/step\n",
            "              precision    recall  f1-score   support\n",
            "\n",
            "   with_mask       0.99      0.98      0.98       400\n",
            "without_mask       0.98      0.99      0.99       400\n",
            "\n",
            "    accuracy                           0.98       800\n",
            "   macro avg       0.99      0.98      0.98       800\n",
            "weighted avg       0.99      0.98      0.98       800\n",
            "\n"
          ]
        }
      ]
    }
  ],
  "metadata": {
    "accelerator": "GPU",
    "colab": {
      "provenance": []
    },
    "gpuClass": "standard",
    "kernelspec": {
      "display_name": "Python 3",
      "name": "python3"
    },
    "language_info": {
      "name": "python"
    }
  },
  "nbformat": 4,
  "nbformat_minor": 0
}